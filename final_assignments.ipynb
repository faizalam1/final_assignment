{
 "cells": [
  {
   "cell_type": "code",
   "execution_count": 4,
   "metadata": {},
   "outputs": [
    {
     "name": "stdout",
     "output_type": "stream",
     "text": [
      "Input radius to calculate area of a circle:\n",
      ">>>0.5\n",
      "Area of circle is 0.7853981633974483.\n"
     ]
    }
   ],
   "source": [
    "from math import pi\n",
    "try:\n",
    "    radius = float(input(\"Input radius to calculate area of a circle:\\n>>>\"))\n",
    "except Exception as e:\n",
    "    print(e)\n",
    "    print(\"Input is to be a number.\")\n",
    "else:\n",
    "    print(f\"Area of circle is {radius ** 2 * pi}.\")"
   ]
  },
  {
   "cell_type": "code",
   "execution_count": 2,
   "metadata": {},
   "outputs": [
    {
     "name": "stdout",
     "output_type": "stream",
     "text": [
      "Integer: 0\n",
      "Zero Entered\n"
     ]
    }
   ],
   "source": [
    "try:\n",
    "    number = int(input(\"Integer: \"))\n",
    "except Exception as e:\n",
    "    print(e)\n",
    "    print(\"Input is to be a number.\")\n",
    "else:\n",
    "    if number > 0:\n",
    "        print(\"Positive number Entered\")\n",
    "    elif number < 0:\n",
    "        print(\"Negative number Entered\")\n",
    "    else:\n",
    "        print(\"Zero Entered\")"
   ]
  },
  {
   "cell_type": "code",
   "execution_count": 7,
   "metadata": {},
   "outputs": [
    {
     "name": "stdout",
     "output_type": "stream",
     "text": [
      "Input numerator: 4\n",
      "Input denominator: 2\n",
      "Number 4.0 is completely divisible by number 2.0.\n"
     ]
    }
   ],
   "source": [
    "try:\n",
    "    numerator = float(input(\"Input numerator: \"))\n",
    "    denominator = float(input(\"Input denominator: \"))\n",
    "except Exception as e:\n",
    "    print(e)\n",
    "    print(\"Input is to be a number.\")\n",
    "else:\n",
    "    if numerator%denominator == 0:\n",
    "        print(f\"Number {numerator} is completely divisible by number {denominator}.\")\n",
    "    else:\n",
    "        print(f\"Number {numerator} is not completely divisible by number {denominator}.\")"
   ]
  },
  {
   "cell_type": "code",
   "execution_count": 13,
   "metadata": {},
   "outputs": [
    {
     "name": "stdout",
     "output_type": "stream",
     "text": [
      "Enter a date in (dd/mm/yyyy) format:07/08/2003\n",
      "Enter a date in (dd/mm/yyyy) format:06/06/2019\n",
      "There are 5782 days in between 2003-08-07 and 2019-06-06\n"
     ]
    }
   ],
   "source": [
    "from datetime import datetime\n",
    "date_format = \"%d/%m/%Y\"\n",
    "a = input(\"Enter a date in (dd/mm/yyyy) format:\")\n",
    "b = input(\"Enter a date in (dd/mm/yyyy) format:\")\n",
    "a = datetime.strptime(a, date_format)\n",
    "b = datetime.strptime(b, date_format)\n",
    "delta = b-a\n",
    "print(f\"There are {delta.days} days in between {a.date()} and {b.date()}\")"
   ]
  },
  {
   "cell_type": "code",
   "execution_count": 14,
   "metadata": {},
   "outputs": [
    {
     "name": "stdout",
     "output_type": "stream",
     "text": [
      "Input radius to calculate volume of a sphere:\n",
      ">>>1\n",
      "volume of sphere is 4.1887902047863905.\n"
     ]
    }
   ],
   "source": [
    "from math import pi\n",
    "try:\n",
    "    radius = float(input(\"Input radius to calculate volume of a sphere:\\n>>>\"))\n",
    "except Exception as e:\n",
    "    print(e)\n",
    "    print(\"Input is to be a number.\")\n",
    "else:\n",
    "    print(f\"volume of sphere is {(4/3) * radius ** 3 * pi}.\")"
   ]
  },
  {
   "cell_type": "code",
   "execution_count": 15,
   "metadata": {},
   "outputs": [
    {
     "name": "stdout",
     "output_type": "stream",
     "text": [
      "Enter String: hi\n",
      "How many copies of String you need: 4\n",
      "4 copies of hi are hihihihi.\n"
     ]
    }
   ],
   "source": [
    "string = input(\"Enter String: \")\n",
    "n = int(input(\"How many copies of String you need: \"))\n",
    "print(f\"{n} copies of {string} are {string * n}.\")"
   ]
  },
  {
   "cell_type": "code",
   "execution_count": 17,
   "metadata": {},
   "outputs": [
    {
     "name": "stdout",
     "output_type": "stream",
     "text": [
      "Enter number: 3\n",
      "3 is odd\n"
     ]
    }
   ],
   "source": [
    "n = int(input(\"Enter number: \"))\n",
    "if n % 2 == 0:\n",
    "    print(f\"{n} is even\")\n",
    "else:\n",
    "    print(f\"{n} is odd\")"
   ]
  },
  {
   "cell_type": "code",
   "execution_count": 27,
   "metadata": {},
   "outputs": [
    {
     "name": "stdout",
     "output_type": "stream",
     "text": [
      "Enter Character: e\n",
      "Letter e is vowel.\n"
     ]
    }
   ],
   "source": [
    "vowels = [\"a\",\"e\",\"i\",\"o\",\"u\"]\n",
    "c = input(\"Enter Character: \")\n",
    "if c.lower() in vowels:\n",
    "    print(f\"Letter {c} is vowel.\")\n",
    "else:\n",
    "    print(f\"Letter {c} is not vowel.\")"
   ]
  },
  {
   "cell_type": "code",
   "execution_count": 24,
   "metadata": {},
   "outputs": [
    {
     "name": "stdout",
     "output_type": "stream",
     "text": [
      "Enter magnitude of Triangle base: 4\n",
      "Enter Magnitude of Triangle Height: 4\n",
      "Area of a Triangle with Height 4.0 and Base 4.0 is 8.0\n"
     ]
    }
   ],
   "source": [
    "base = float(input(\"Enter magnitude of Triangle base: \"))\n",
    "height = float(input(\"Enter Magnitude of Triangle Height: \"))\n",
    "print(f\"Area of a Triangle with Height {height} and Base {base} is {(base * height) / 2}\")"
   ]
  },
  {
   "cell_type": "code",
   "execution_count": 30,
   "metadata": {},
   "outputs": [
    {
     "name": "stdout",
     "output_type": "stream",
     "text": [
      "Please enter principal amount: 10000\n",
      "Please Enter Rate of interest: 0.1\n",
      "Enter number of years for investment: 5\n",
      "After 5 years your principal amount 10000.0 over an interest rate of 0.1 % will be 16105.100000000006\n"
     ]
    }
   ],
   "source": [
    "amount = float(input(\"Please enter principal amount: \"))\n",
    "rate_of_interest = float(input(\"Please Enter Rate of interest: \"))\n",
    "time = int(input(\"Enter number of years for investment: \"))\n",
    "print(f\"After {time} years your principal amount {amount} over an interest rate of {rate_of_interest} % will be {amount * ((1 + rate_of_interest) ** time)}\")"
   ]
  },
  {
   "cell_type": "code",
   "execution_count": 32,
   "metadata": {},
   "outputs": [
    {
     "name": "stdout",
     "output_type": "stream",
     "text": [
      "Enter Co-ordinate for x1: 2\n",
      "Enter Co-ordinate for x2: 4\n",
      "Enter Co-ordinate for y1: 4\n",
      "Enter Co-ordinate for y2: 4\n",
      "Distance between points (2, 4) and (4, 4) is 2.0\n"
     ]
    }
   ],
   "source": [
    "x1 = int(input(\"Enter Co-ordinate for x1: \"))\n",
    "x2 = int(input(\"Enter Co-ordinate for x2: \"))\n",
    "y1 = int(input(\"Enter Co-ordinate for y1: \"))\n",
    "y2 = int(input(\"Enter Co-ordinate for y2: \"))\n",
    "print(f\"Distance between points ({x1}, {x2}) and ({y1}, {y2}) is {(((y1 - x1) ** 2) + ((y2 - x2) ** 2)) ** 0.5}\")"
   ]
  },
  {
   "cell_type": "code",
   "execution_count": 34,
   "metadata": {},
   "outputs": [
    {
     "name": "stdout",
     "output_type": "stream",
     "text": [
      "Enter Height in Feet: 5\n",
      "There are 152.4 Cm in 5.0 ft\n"
     ]
    }
   ],
   "source": [
    "ft = float(input(\"Enter Height in Feet: \"))\n",
    "print(f\"There are {ft * 30.48} Cm in {ft} ft\")"
   ]
  },
  {
   "cell_type": "code",
   "execution_count": 36,
   "metadata": {},
   "outputs": [
    {
     "name": "stdout",
     "output_type": "stream",
     "text": [
      "Enter Height in Cm: 180\n",
      "Enter Weight in Kg: 75\n",
      "Your BMI is 23.148148148148145\n"
     ]
    }
   ],
   "source": [
    "height = float(input(\"Enter Height in Cm: \"))\n",
    "weight = float(input(\"Enter Weight in Kg: \"))\n",
    "print(f\"Your BMI is {weight / ((height / 100) ** 2)}\")"
   ]
  },
  {
   "cell_type": "code",
   "execution_count": 57,
   "metadata": {},
   "outputs": [
    {
     "name": "stdout",
     "output_type": "stream",
     "text": [
      "Enter value of n: 5\n",
      "Sum of n Positive integers till 5 is 15\n"
     ]
    }
   ],
   "source": [
    "n = int(input(\"Enter value of n: \"))\n",
    "num = 0\n",
    "for i in range(n+1):\n",
    "    num = num + i\n",
    "print(f\"Sum of n Positive integers till {n} is {num}\")"
   ]
  },
  {
   "cell_type": "code",
   "execution_count": 53,
   "metadata": {},
   "outputs": [
    {
     "name": "stdout",
     "output_type": "stream",
     "text": [
      "Enter a number: 1234\n",
      "Sum of 1 + 2 + 3 + 4 is 10\n"
     ]
    }
   ],
   "source": [
    "n = input(\"Enter a number: \")\n",
    "try:\n",
    "    int(n)\n",
    "except Exception as e:\n",
    "    print(e)\n",
    "    print(\"Input is to be a number.\")\n",
    "else:\n",
    "    string = f\"\"\n",
    "    sum = 0\n",
    "    i = 0\n",
    "    for c in n:\n",
    "        i = i + 1\n",
    "        if i == 1:\n",
    "            string = string + f\"{c}\"\n",
    "        else:\n",
    "            string = string + f\" + {c}\"\n",
    "        sum = sum + int(c)\n",
    "    print(f\"Sum of {string} is {sum}\")"
   ]
  },
  {
   "cell_type": "code",
   "execution_count": 65,
   "metadata": {},
   "outputs": [
    {
     "name": "stdout",
     "output_type": "stream",
     "text": [
      "Enter a decimal number: 13\n",
      "Binary Representation of 13 is 1101\n"
     ]
    }
   ],
   "source": [
    "decimal_n = int(input(\"Enter a decimal number: \"))\n",
    "print(f\"Binary Representation of {decimal_n} is {bin(decimal_n)[2:]}\")"
   ]
  },
  {
   "cell_type": "code",
   "execution_count": 66,
   "metadata": {},
   "outputs": [
    {
     "name": "stdout",
     "output_type": "stream",
     "text": [
      "Enter a binary number: 1001\n",
      "Decimal Representation of 1001 is 9\n"
     ]
    }
   ],
   "source": [
    "binary_n = input(\"Enter a binary number: \")\n",
    "print(f\"Decimal Representation of {binary_n} is {int(binary_n, 2)}\")"
   ]
  },
  {
   "cell_type": "code",
   "execution_count": 72,
   "metadata": {},
   "outputs": [
    {
     "name": "stdout",
     "output_type": "stream",
     "text": [
      "Enter Text: Quick Brown Fox Jumps over the Dog\n",
      "Vowels: 9\n",
      "Constants: 19\n"
     ]
    }
   ],
   "source": [
    "string = input(\"Enter Text: \")\n",
    "vowels = [\"a\",\"e\",\"i\",\"o\",\"u\"]\n",
    "vowel_count = 0\n",
    "constant_count = 0\n",
    "for c in string:\n",
    "    if c.isalpha():\n",
    "        if c.lower() in vowels:\n",
    "            vowel_count = vowel_count + 1\n",
    "        else:\n",
    "            constant_count = constant_count + 1\n",
    "print(f\"Vowels: {vowel_count}\\nConstants: {constant_count}\")"
   ]
  },
  {
   "cell_type": "code",
   "execution_count": 80,
   "metadata": {},
   "outputs": [
    {
     "name": "stdout",
     "output_type": "stream",
     "text": [
      "Enter text: aha\n",
      "Text aha is Palindrome\n"
     ]
    }
   ],
   "source": [
    "string = input(\"Enter text: \")\n",
    "gnirts = string[-1::-1]\n",
    "if string == gnirts:\n",
    "    print(f\"Text {string} is Palindrome\")\n",
    "else:\n",
    "    print(f\"Text {string} is not Palindrome\")"
   ]
  },
  {
   "cell_type": "code",
   "execution_count": 81,
   "metadata": {},
   "outputs": [
    {
     "name": "stdout",
     "output_type": "stream",
     "text": [
      "Enter text: Python 3.2\n",
      "Numbers = 2\n",
      "Alphabets = 6\n",
      "Spaces = 1\n",
      "Special Character = 1\n"
     ]
    }
   ],
   "source": [
    "string = input(\"Enter text: \")\n",
    "numbers = 0\n",
    "alphabets = 0\n",
    "special_characters = 0\n",
    "spaces = 0\n",
    "for c in string:\n",
    "    if c.isalpha():\n",
    "        alphabets = alphabets + 1\n",
    "    elif c.isdigit():\n",
    "        numbers = numbers + 1\n",
    "    elif c.isspace():\n",
    "        spaces = spaces + 1\n",
    "    else:\n",
    "        special_characters = special_characters + 1\n",
    "print(f\"Numbers = {numbers}\\nAlphabets = {alphabets}\\nSpaces = {spaces}\\nSpecial Character = {special_characters}\")"
   ]
  },
  {
   "cell_type": "code",
   "execution_count": 86,
   "metadata": {},
   "outputs": [
    {
     "name": "stdout",
     "output_type": "stream",
     "text": [
      "\n",
      "*\n",
      "**\n",
      "***\n",
      "****\n",
      "*****\n",
      "****\n",
      "***\n",
      "**\n",
      "*\n"
     ]
    }
   ],
   "source": [
    "for i in range(5+1):\n",
    "    print(\"*\" * i)\n",
    "for j in range(5-1,0,-1):\n",
    "    print(\"*\" * j)"
   ]
  },
  {
   "cell_type": "code",
   "execution_count": 110,
   "metadata": {},
   "outputs": [
    {
     "name": "stdout",
     "output_type": "stream",
     "text": [
      "1 \n",
      "1 2 \n",
      "1 2 3 \n",
      "1 2 3 4 \n",
      "1 2 3 4 5 \n",
      "1 2 3 4 \n",
      "1 2 3 \n",
      "1 2 \n",
      "1 \n"
     ]
    }
   ],
   "source": [
    "for i in range(1,5+1):\n",
    "    num = 1\n",
    "    for j in range(0,i):\n",
    "        print(num,end=\" \")\n",
    "        num = num + 1\n",
    "    print()\n",
    "for i in range(5-1,0,-1):\n",
    "    num = 1\n",
    "    for j in range(i,0,-1):\n",
    "        print(num,end=\" \")\n",
    "        num = num + 1\n",
    "    print()"
   ]
  },
  {
   "cell_type": "code",
   "execution_count": 114,
   "metadata": {},
   "outputs": [
    {
     "name": "stdout",
     "output_type": "stream",
     "text": [
      "1\n",
      "22\n",
      "333\n",
      "4444\n",
      "55555\n",
      "666666\n",
      "7777777\n",
      "88888888\n",
      "999999999\n"
     ]
    }
   ],
   "source": [
    "for i in range(1,9+1):\n",
    "    print(f\"{i}\" * i)"
   ]
  }
 ],
 "metadata": {
  "kernelspec": {
   "display_name": "Python 3",
   "language": "python",
   "name": "python3"
  },
  "language_info": {
   "codemirror_mode": {
    "name": "ipython",
    "version": 3
   },
   "file_extension": ".py",
   "mimetype": "text/x-python",
   "name": "python",
   "nbconvert_exporter": "python",
   "pygments_lexer": "ipython3",
   "version": "3.7.3"
  }
 },
 "nbformat": 4,
 "nbformat_minor": 2
}
